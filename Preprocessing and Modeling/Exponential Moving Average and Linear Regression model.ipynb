{
 "cells": [
  {
   "cell_type": "markdown",
   "id": "411d98b4",
   "metadata": {},
   "source": [
    "# Daily News for Stock Market Prediction \n",
    "\n",
    "   ### Preprocessing and modeling_Exponential Moving Average and Linear Regression model\n",
    "\n",
    "  ### 8 years daily news headlines to predict stock market movement\n",
    "  \n",
    "\n",
    "  \n",
    "### Introduction:\n",
    "\n",
    "News is getting delayed to the public and professional traders react to the market news very fast before the real numbers are released. \n",
    "Controlling manipulators is a big task in the market. The information leakage on trading behavior and market efficiency will lead to high stock fluctuation before the public announcement.\n",
    "\n",
    "A single-predictor model fails to beat the prediction of stock returns. So here I am applying `Time-series Analysis`, `Recurrent Neural Networks`, and `Natural Language Processing` to predict.\n",
    "The goal is to improve the accuracy of stock return forecasts by combining new technical indicators and news.\n",
    "\n",
    "data collection : https://www.kaggle.com/aaron7sun/stocknews/code\n"
   ]
  },
  {
   "cell_type": "markdown",
   "id": "ed51e4cd",
   "metadata": {},
   "source": [
    "Finding the right combination of features to make those predictions profitable. we’ll train a regression model using historic pricing data and technical indicators to make predictions on future prices."
   ]
  },
  {
   "cell_type": "code",
   "execution_count": 433,
   "id": "acd86860",
   "metadata": {},
   "outputs": [],
   "source": [
    "#Import necessary libraries\n",
    "import pandas as pd\n",
    "import numpy as np\n",
    "import matplotlib.pyplot as plt\n",
    "from sklearn.linear_model import LinearRegression\n",
    "from sklearn.metrics import mean_squared_error\n",
    "from sklearn.metrics import r2_score, mean_absolute_error\n",
    "from math import sqrt\n",
    "import datetime as dt\n",
    "from sklearn import linear_model\n",
    "from sklearn.model_selection import train_test_split\n",
    "from sklearn.metrics import confusion_matrix, accuracy_score\n",
    "#setting figure size\n",
    "from matplotlib.pylab import rcParams\n",
    "rcParams['figure.figsize'] = 12,6\n",
    "pd.set_option('mode.chained_assignment', 'raise') # Raise an exception, warn, or no action if trying to use chained assignment"
   ]
  },
  {
   "cell_type": "markdown",
   "id": "e1097eb6",
   "metadata": {},
   "source": [
    "### Load the data"
   ]
  },
  {
   "cell_type": "code",
   "execution_count": 434,
   "id": "e965a2e0",
   "metadata": {},
   "outputs": [
    {
     "data": {
      "text/html": [
       "<div>\n",
       "<style scoped>\n",
       "    .dataframe tbody tr th:only-of-type {\n",
       "        vertical-align: middle;\n",
       "    }\n",
       "\n",
       "    .dataframe tbody tr th {\n",
       "        vertical-align: top;\n",
       "    }\n",
       "\n",
       "    .dataframe thead th {\n",
       "        text-align: right;\n",
       "    }\n",
       "</style>\n",
       "<table border=\"1\" class=\"dataframe\">\n",
       "  <thead>\n",
       "    <tr style=\"text-align: right;\">\n",
       "      <th></th>\n",
       "      <th>Open</th>\n",
       "      <th>High</th>\n",
       "      <th>Low</th>\n",
       "      <th>Close</th>\n",
       "      <th>Volume</th>\n",
       "      <th>Adj Close</th>\n",
       "      <th>Daily_Returns</th>\n",
       "      <th>Label</th>\n",
       "      <th>Top1</th>\n",
       "      <th>Top2</th>\n",
       "      <th>...</th>\n",
       "      <th>Top21</th>\n",
       "      <th>Top22</th>\n",
       "      <th>Top23</th>\n",
       "      <th>Top24</th>\n",
       "      <th>Top25</th>\n",
       "      <th>Top_news</th>\n",
       "      <th>combined_news</th>\n",
       "      <th>combined_news_split</th>\n",
       "      <th>combined_news_split_wo_stopwords</th>\n",
       "      <th>Top_News_lemmatized</th>\n",
       "    </tr>\n",
       "    <tr>\n",
       "      <th>Date</th>\n",
       "      <th></th>\n",
       "      <th></th>\n",
       "      <th></th>\n",
       "      <th></th>\n",
       "      <th></th>\n",
       "      <th></th>\n",
       "      <th></th>\n",
       "      <th></th>\n",
       "      <th></th>\n",
       "      <th></th>\n",
       "      <th></th>\n",
       "      <th></th>\n",
       "      <th></th>\n",
       "      <th></th>\n",
       "      <th></th>\n",
       "      <th></th>\n",
       "      <th></th>\n",
       "      <th></th>\n",
       "      <th></th>\n",
       "      <th></th>\n",
       "      <th></th>\n",
       "    </tr>\n",
       "  </thead>\n",
       "  <tbody>\n",
       "    <tr>\n",
       "      <th>2008-08-08</th>\n",
       "      <td>11432.089844</td>\n",
       "      <td>11759.959961</td>\n",
       "      <td>11388.040039</td>\n",
       "      <td>11734.320312</td>\n",
       "      <td>212830000</td>\n",
       "      <td>11734.320312</td>\n",
       "      <td>-0.004076</td>\n",
       "      <td>0</td>\n",
       "      <td>Georgia 'downs two Russian warplanes' as count...</td>\n",
       "      <td>BREAKING: Musharraf to be impeached.'</td>\n",
       "      <td>...</td>\n",
       "      <td>Why the Pentagon Thinks Attacking Iran is a Ba...</td>\n",
       "      <td>Caucasus in crisis: Georgia invades South Osse...</td>\n",
       "      <td>Indian shoe manufactory  - And again in a seri...</td>\n",
       "      <td>Visitors Suffering from Mental Illnesses Banne...</td>\n",
       "      <td>No Help for Mexico's Kidnapping Surge</td>\n",
       "      <td>bGeorgia downs two Russian warplanes as countr...</td>\n",
       "      <td>Georgia 'downs two Russian warplanes' as count...</td>\n",
       "      <td>['georgia', 'downs', 'two', 'russian', 'warpla...</td>\n",
       "      <td>['georgia', 'downs', 'two', 'russian', 'warpla...</td>\n",
       "      <td>georgia down two russian warplane country move...</td>\n",
       "    </tr>\n",
       "  </tbody>\n",
       "</table>\n",
       "<p>1 rows × 38 columns</p>\n",
       "</div>"
      ],
      "text/plain": [
       "                    Open          High           Low         Close     Volume  \\\n",
       "Date                                                                            \n",
       "2008-08-08  11432.089844  11759.959961  11388.040039  11734.320312  212830000   \n",
       "\n",
       "               Adj Close  Daily_Returns  Label  \\\n",
       "Date                                             \n",
       "2008-08-08  11734.320312      -0.004076      0   \n",
       "\n",
       "                                                         Top1  \\\n",
       "Date                                                            \n",
       "2008-08-08  Georgia 'downs two Russian warplanes' as count...   \n",
       "\n",
       "                                             Top2  ...  \\\n",
       "Date                                               ...   \n",
       "2008-08-08  BREAKING: Musharraf to be impeached.'  ...   \n",
       "\n",
       "                                                        Top21  \\\n",
       "Date                                                            \n",
       "2008-08-08  Why the Pentagon Thinks Attacking Iran is a Ba...   \n",
       "\n",
       "                                                        Top22  \\\n",
       "Date                                                            \n",
       "2008-08-08  Caucasus in crisis: Georgia invades South Osse...   \n",
       "\n",
       "                                                        Top23  \\\n",
       "Date                                                            \n",
       "2008-08-08  Indian shoe manufactory  - And again in a seri...   \n",
       "\n",
       "                                                        Top24  \\\n",
       "Date                                                            \n",
       "2008-08-08  Visitors Suffering from Mental Illnesses Banne...   \n",
       "\n",
       "                                            Top25  \\\n",
       "Date                                                \n",
       "2008-08-08  No Help for Mexico's Kidnapping Surge   \n",
       "\n",
       "                                                     Top_news  \\\n",
       "Date                                                            \n",
       "2008-08-08  bGeorgia downs two Russian warplanes as countr...   \n",
       "\n",
       "                                                combined_news  \\\n",
       "Date                                                            \n",
       "2008-08-08  Georgia 'downs two Russian warplanes' as count...   \n",
       "\n",
       "                                          combined_news_split  \\\n",
       "Date                                                            \n",
       "2008-08-08  ['georgia', 'downs', 'two', 'russian', 'warpla...   \n",
       "\n",
       "                             combined_news_split_wo_stopwords  \\\n",
       "Date                                                            \n",
       "2008-08-08  ['georgia', 'downs', 'two', 'russian', 'warpla...   \n",
       "\n",
       "                                          Top_News_lemmatized  \n",
       "Date                                                           \n",
       "2008-08-08  georgia down two russian warplane country move...  \n",
       "\n",
       "[1 rows x 38 columns]"
      ]
     },
     "execution_count": 434,
     "metadata": {},
     "output_type": "execute_result"
    }
   ],
   "source": [
    "DJIA_comb = pd.read_csv(\".\\DJIA_comb.csv\", index_col='Date',parse_dates=True)\n",
    "DJIA_comb.head(1)"
   ]
  },
  {
   "cell_type": "code",
   "execution_count": 444,
   "id": "ed77a1b7",
   "metadata": {},
   "outputs": [
    {
     "data": {
      "text/html": [
       "<div>\n",
       "<style scoped>\n",
       "    .dataframe tbody tr th:only-of-type {\n",
       "        vertical-align: middle;\n",
       "    }\n",
       "\n",
       "    .dataframe tbody tr th {\n",
       "        vertical-align: top;\n",
       "    }\n",
       "\n",
       "    .dataframe thead th {\n",
       "        text-align: right;\n",
       "    }\n",
       "</style>\n",
       "<table border=\"1\" class=\"dataframe\">\n",
       "  <thead>\n",
       "    <tr style=\"text-align: right;\">\n",
       "      <th></th>\n",
       "      <th>Adj Close</th>\n",
       "    </tr>\n",
       "    <tr>\n",
       "      <th>Date</th>\n",
       "      <th></th>\n",
       "    </tr>\n",
       "  </thead>\n",
       "  <tbody>\n",
       "    <tr>\n",
       "      <th>2008-08-08</th>\n",
       "      <td>11734.320312</td>\n",
       "    </tr>\n",
       "    <tr>\n",
       "      <th>2008-08-11</th>\n",
       "      <td>11782.349609</td>\n",
       "    </tr>\n",
       "  </tbody>\n",
       "</table>\n",
       "</div>"
      ],
      "text/plain": [
       "               Adj Close\n",
       "Date                    \n",
       "2008-08-08  11734.320312\n",
       "2008-08-11  11782.349609"
      ]
     },
     "execution_count": 444,
     "metadata": {},
     "output_type": "execute_result"
    }
   ],
   "source": [
    "price = DJIA_comb[['Adj Close']]\n",
    "price.head(2)"
   ]
  },
  {
   "cell_type": "code",
   "execution_count": 445,
   "id": "8bfdf122",
   "metadata": {},
   "outputs": [
    {
     "name": "stdout",
     "output_type": "stream",
     "text": [
      "<class 'pandas.core.frame.DataFrame'>\n",
      "DatetimeIndex: 1985 entries, 2008-08-08 to 2016-06-30\n",
      "Data columns (total 1 columns):\n",
      " #   Column     Non-Null Count  Dtype  \n",
      "---  ------     --------------  -----  \n",
      " 0   Adj Close  1985 non-null   float64\n",
      "dtypes: float64(1)\n",
      "memory usage: 31.0 KB\n",
      "None\n"
     ]
    }
   ],
   "source": [
    "print(price.info())"
   ]
  },
  {
   "cell_type": "markdown",
   "id": "3fce268b",
   "metadata": {},
   "source": [
    "### Exponential Moving Average (EMA)\n",
    "An exponential moving average (EMA) is a type of moving average (MA) that places a greater weight and significance on the most recent data points. The exponential moving average is also referred to as the exponentially weighted moving average.\n",
    "\n",
    "`EMA = Closing price x multiplier + EMA (previous day) x (1-multiplier)`"
   ]
  },
  {
   "cell_type": "code",
   "execution_count": 453,
   "id": "e7422f01",
   "metadata": {},
   "outputs": [],
   "source": [
    "import pandas_ta as ta\n"
   ]
  },
  {
   "cell_type": "code",
   "execution_count": 462,
   "id": "42349c46",
   "metadata": {},
   "outputs": [
    {
     "data": {
      "text/html": [
       "<div>\n",
       "<style scoped>\n",
       "    .dataframe tbody tr th:only-of-type {\n",
       "        vertical-align: middle;\n",
       "    }\n",
       "\n",
       "    .dataframe tbody tr th {\n",
       "        vertical-align: top;\n",
       "    }\n",
       "\n",
       "    .dataframe thead th {\n",
       "        text-align: right;\n",
       "    }\n",
       "</style>\n",
       "<table border=\"1\" class=\"dataframe\">\n",
       "  <thead>\n",
       "    <tr style=\"text-align: right;\">\n",
       "      <th></th>\n",
       "      <th>Adj Close</th>\n",
       "      <th>EMA_50</th>\n",
       "    </tr>\n",
       "    <tr>\n",
       "      <th>Date</th>\n",
       "      <th></th>\n",
       "      <th></th>\n",
       "    </tr>\n",
       "  </thead>\n",
       "  <tbody>\n",
       "    <tr>\n",
       "      <th>2008-08-08</th>\n",
       "      <td>11734.320312</td>\n",
       "      <td>NaN</td>\n",
       "    </tr>\n",
       "    <tr>\n",
       "      <th>2008-08-11</th>\n",
       "      <td>11782.349609</td>\n",
       "      <td>NaN</td>\n",
       "    </tr>\n",
       "    <tr>\n",
       "      <th>2008-08-12</th>\n",
       "      <td>11642.469727</td>\n",
       "      <td>NaN</td>\n",
       "    </tr>\n",
       "    <tr>\n",
       "      <th>2008-08-13</th>\n",
       "      <td>11532.959961</td>\n",
       "      <td>NaN</td>\n",
       "    </tr>\n",
       "    <tr>\n",
       "      <th>2008-08-14</th>\n",
       "      <td>11615.929688</td>\n",
       "      <td>NaN</td>\n",
       "    </tr>\n",
       "    <tr>\n",
       "      <th>...</th>\n",
       "      <td>...</td>\n",
       "      <td>...</td>\n",
       "    </tr>\n",
       "    <tr>\n",
       "      <th>2016-06-24</th>\n",
       "      <td>17400.750000</td>\n",
       "      <td>17703.368526</td>\n",
       "    </tr>\n",
       "    <tr>\n",
       "      <th>2016-06-27</th>\n",
       "      <td>17140.240234</td>\n",
       "      <td>17681.285063</td>\n",
       "    </tr>\n",
       "    <tr>\n",
       "      <th>2016-06-28</th>\n",
       "      <td>17409.720703</td>\n",
       "      <td>17670.635481</td>\n",
       "    </tr>\n",
       "    <tr>\n",
       "      <th>2016-06-29</th>\n",
       "      <td>17694.679688</td>\n",
       "      <td>17671.578391</td>\n",
       "    </tr>\n",
       "    <tr>\n",
       "      <th>2016-06-30</th>\n",
       "      <td>17929.990234</td>\n",
       "      <td>17681.712188</td>\n",
       "    </tr>\n",
       "  </tbody>\n",
       "</table>\n",
       "<p>1985 rows × 2 columns</p>\n",
       "</div>"
      ],
      "text/plain": [
       "               Adj Close        EMA_50\n",
       "Date                                  \n",
       "2008-08-08  11734.320312           NaN\n",
       "2008-08-11  11782.349609           NaN\n",
       "2008-08-12  11642.469727           NaN\n",
       "2008-08-13  11532.959961           NaN\n",
       "2008-08-14  11615.929688           NaN\n",
       "...                  ...           ...\n",
       "2016-06-24  17400.750000  17703.368526\n",
       "2016-06-27  17140.240234  17681.285063\n",
       "2016-06-28  17409.720703  17670.635481\n",
       "2016-06-29  17694.679688  17671.578391\n",
       "2016-06-30  17929.990234  17681.712188\n",
       "\n",
       "[1985 rows x 2 columns]"
      ]
     },
     "execution_count": 462,
     "metadata": {},
     "output_type": "execute_result"
    }
   ],
   "source": [
    "price.ta.ema(close=['Adj Close'], length=50, append=True)"
   ]
  },
  {
   "cell_type": "code",
   "execution_count": 465,
   "id": "89b66f18",
   "metadata": {},
   "outputs": [
    {
     "data": {
      "text/html": [
       "<div>\n",
       "<style scoped>\n",
       "    .dataframe tbody tr th:only-of-type {\n",
       "        vertical-align: middle;\n",
       "    }\n",
       "\n",
       "    .dataframe tbody tr th {\n",
       "        vertical-align: top;\n",
       "    }\n",
       "\n",
       "    .dataframe thead th {\n",
       "        text-align: right;\n",
       "    }\n",
       "</style>\n",
       "<table border=\"1\" class=\"dataframe\">\n",
       "  <thead>\n",
       "    <tr style=\"text-align: right;\">\n",
       "      <th></th>\n",
       "      <th>Adj Close</th>\n",
       "      <th>EMA_50</th>\n",
       "    </tr>\n",
       "    <tr>\n",
       "      <th>Date</th>\n",
       "      <th></th>\n",
       "      <th></th>\n",
       "    </tr>\n",
       "  </thead>\n",
       "  <tbody>\n",
       "    <tr>\n",
       "      <th>2008-10-17</th>\n",
       "      <td>8852.219727</td>\n",
       "      <td>10813.329004</td>\n",
       "    </tr>\n",
       "    <tr>\n",
       "      <th>2008-10-20</th>\n",
       "      <td>9265.429688</td>\n",
       "      <td>10752.627070</td>\n",
       "    </tr>\n",
       "    <tr>\n",
       "      <th>2008-10-21</th>\n",
       "      <td>9033.660156</td>\n",
       "      <td>10685.216603</td>\n",
       "    </tr>\n",
       "    <tr>\n",
       "      <th>2008-10-22</th>\n",
       "      <td>8519.209961</td>\n",
       "      <td>10600.275166</td>\n",
       "    </tr>\n",
       "    <tr>\n",
       "      <th>2008-10-23</th>\n",
       "      <td>8691.250000</td>\n",
       "      <td>10525.411434</td>\n",
       "    </tr>\n",
       "  </tbody>\n",
       "</table>\n",
       "</div>"
      ],
      "text/plain": [
       "              Adj Close        EMA_50\n",
       "Date                                 \n",
       "2008-10-17  8852.219727  10813.329004\n",
       "2008-10-20  9265.429688  10752.627070\n",
       "2008-10-21  9033.660156  10685.216603\n",
       "2008-10-22  8519.209961  10600.275166\n",
       "2008-10-23  8691.250000  10525.411434"
      ]
     },
     "execution_count": 465,
     "metadata": {},
     "output_type": "execute_result"
    }
   ],
   "source": [
    "price = price.dropna()\n",
    "price.head()"
   ]
  },
  {
   "cell_type": "markdown",
   "id": "23cf23ff",
   "metadata": {},
   "source": [
    "#### Historic pricing from 2008-2016 with the EMA overlaid. "
   ]
  },
  {
   "cell_type": "code",
   "execution_count": 466,
   "id": "c08bd88d",
   "metadata": {},
   "outputs": [
    {
     "data": {
      "text/plain": [
       "<matplotlib.legend.Legend at 0x2bc28392d60>"
      ]
     },
     "execution_count": 466,
     "metadata": {},
     "output_type": "execute_result"
    },
    {
     "data": {
      "image/png": "[encoded data removed]",
      "text/plain": [
       "<Figure size 864x432 with 1 Axes>"
      ]
     },
     "metadata": {},
     "output_type": "display_data"
    }
   ],
   "source": [
    "price.plot(grid=True)\n",
    "plt.legend(['Exponential MA','Adj Close']) "
   ]
  },
  {
   "cell_type": "markdown",
   "id": "e337da55",
   "metadata": {},
   "source": [
    "### Test-Train Split\n",
    "\n",
    "Using eighty percent of data for training and the remaining twenty percent for testing is common. "
   ]
  },
  {
   "cell_type": "code",
   "execution_count": 469,
   "id": "60f2051c",
   "metadata": {},
   "outputs": [],
   "source": [
    "# Split data into testing and training sets\n",
    "X_train, X_test, y_train, y_test = train_test_split(price[['Adj Close']], price[['EMA_50']], test_size=.2)"
   ]
  },
  {
   "cell_type": "code",
   "execution_count": 470,
   "id": "5538703b",
   "metadata": {},
   "outputs": [
    {
     "name": "stdout",
     "output_type": "stream",
     "text": [
      "          Adj Close\n",
      "count    388.000000\n",
      "mean   13290.246120\n",
      "std     3233.605480\n",
      "min     6594.439941\n",
      "25%    10684.592774\n",
      "50%    12870.215332\n",
      "75%    16423.947266\n",
      "max    18132.699219\n",
      "          Adj Close\n",
      "count   1548.000000\n",
      "mean   13591.009412\n",
      "std     3129.236660\n",
      "min     6547.049805\n",
      "25%    11010.760254\n",
      "50%    13142.375000\n",
      "75%    16530.647949\n",
      "max    18312.390625\n"
     ]
    }
   ],
   "source": [
    "# Test set\n",
    "print(X_test.describe())\n",
    "\n",
    "# Training set\n",
    "print(X_train.describe())"
   ]
  },
  {
   "cell_type": "markdown",
   "id": "1a0b6292",
   "metadata": {},
   "source": [
    "### Training the Model\n",
    "\n",
    " We want to see how well it can be fit to a linear model. `Scikit-learn’s` `LinearRegression` class makes this simple enough."
   ]
  },
  {
   "cell_type": "code",
   "execution_count": 473,
   "id": "6db17820",
   "metadata": {},
   "outputs": [],
   "source": [
    "# Create Regression Model\n",
    "model = LinearRegression()\n",
    "# Train the model\n",
    "model.fit(X_train, y_train)\n",
    "# Use model to make predictions\n",
    "y_pred = model.predict(X_test)"
   ]
  },
  {
   "cell_type": "code",
   "execution_count": 474,
   "id": "4b57b17f",
   "metadata": {},
   "outputs": [
    {
     "data": {
      "text/plain": [
       "(388, 1)"
      ]
     },
     "execution_count": 474,
     "metadata": {},
     "output_type": "execute_result"
    }
   ],
   "source": [
    "y_pred.shape"
   ]
  },
  {
   "cell_type": "markdown",
   "id": "be926876",
   "metadata": {},
   "source": [
    "### Validating the Fit\n",
    "\n",
    "The linear model generates coefficients for each feature during training and returns these values as an array. \n",
    "\n",
    "we can use the predicted values from our trained model to calculate the mean squared error and the coefficient of determination using other functions from the `sklearn.metrics` module."
   ]
  },
  {
   "cell_type": "code",
   "execution_count": 475,
   "id": "3a145908",
   "metadata": {},
   "outputs": [
    {
     "name": "stdout",
     "output_type": "stream",
     "text": [
      "Model Coefficients: [[0.97278127]]\n",
      "Mean Absolute Error: 326.5384410234859\n",
      "R Squared- Coefficient of Determination: 0.9818365696549988\n",
      "mean_squared_error: 188149.38593945582\n"
     ]
    }
   ],
   "source": [
    "print(\"Model Coefficients:\", model.coef_)\n",
    "print(\"Mean Absolute Error:\", mean_absolute_error(y_test, y_pred))\n",
    "print(\"R Squared- Coefficient of Determination:\", r2_score(y_test, y_pred))\n",
    "print(\"mean_squared_error:\", mean_squared_error(y_test, y_pred))"
   ]
  },
  {
   "cell_type": "markdown",
   "id": "36f762b4",
   "metadata": {},
   "source": [
    "#### Observation: \n",
    "\n",
    " - The R-squared of the model is 99.62%. R-squared is always between 0 and 100%. \n",
    " - A score close to 100% indicates that the model explains the prices well"
   ]
  },
  {
   "cell_type": "code",
   "execution_count": 476,
   "id": "ab517e0e",
   "metadata": {},
   "outputs": [
    {
     "data": {
      "text/plain": [
       "433.7619000551522"
      ]
     },
     "execution_count": 476,
     "metadata": {},
     "output_type": "execute_result"
    }
   ],
   "source": [
    "rmse = np.sqrt(np.mean(np.power((np.array(y_test)-np.array(y_pred)),2)))\n",
    "rmse"
   ]
  },
  {
   "cell_type": "markdown",
   "id": "f43ebc86",
   "metadata": {},
   "source": [
    "#### observation: \n",
    "  A lower MAE value is better, and the closer our coefficient of the correlation value is to 1.0 the better. The metrics here suggest that our model fits our data well, though the MAE is slightly high"
   ]
  },
  {
   "cell_type": "code",
   "execution_count": 478,
   "id": "c95321b1",
   "metadata": {},
   "outputs": [
    {
     "name": "stdout",
     "output_type": "stream",
     "text": [
      "regression coefficient [[0.95482117]]\n",
      "regression intercept [463.31077502]\n",
      "linear regression confidence:  -0.5295739245608706\n",
      "               Adj Close\n",
      "Date                    \n",
      "2014-12-16  17068.869141\n",
      "2014-12-17  17356.869141\n",
      "2014-12-18  17778.150391\n",
      "2014-12-19  17804.800781\n",
      "2014-12-22  17959.439453\n",
      "(388, 1)\n"
     ]
    }
   ],
   "source": [
    "X = price[['Adj Close']]\n",
    "y = price[[\"EMA_50\"]]\n",
    "#fitting Simple Regression to training set\n",
    "# Linear regression Model for stock prediction \n",
    "X_train, X_test, y_train,y_test = train_test_split(X, y, test_size=0.2 , shuffle=False,random_state = 0)\n",
    "\n",
    "from sklearn.linear_model import LinearRegression\n",
    "\n",
    "from sklearn.metrics import confusion_matrix, accuracy_score\n",
    "regression = LinearRegression()\n",
    "regression.fit(X_train, y_train)\n",
    "print(\"regression coefficient\",regression.coef_)\n",
    "print(\"regression intercept\",regression.intercept_)\n",
    "\n",
    "regression_confidence = regression.score(X_test, y_test)\n",
    "print(\"linear regression confidence: \", regression_confidence)\n",
    "\n",
    "#predecting the test set results\n",
    "predicted=regression.predict(X_test)\n",
    "print(X_test.head())\n",
    "\n",
    "print(predicted.shape)"
   ]
  },
  {
   "cell_type": "code",
   "execution_count": 482,
   "id": "b761d48f",
   "metadata": {},
   "outputs": [
    {
     "data": {
      "image/png": "[encoded data removed]",
      "text/plain": [
       "<Figure size 864x432 with 1 Axes>"
      ]
     },
     "metadata": {},
     "output_type": "display_data"
    }
   ],
   "source": [
    "#Visualization of the training set results\n",
    "plt.scatter(X_train, y_train, color = 'red')\n",
    "plt.plot(X_train, regression.predict(X_train), color = 'green')\n",
    "plt.title('Predicted Value Vs Real Value')\n",
    "plt.xlabel('Predicted Value')\n",
    "plt.ylabel('Real Value')\n",
    "plt.show()"
   ]
  },
  {
   "cell_type": "markdown",
   "id": "1e016f55",
   "metadata": {},
   "source": [
    "#### Observation:\n",
    "At this point, we’ve trained a model on historical pricing data using the Adjusted Closing value and the Exponential Moving Average. Our goal was to develop a model that can use the EMA of any given day (dependent on pricing from the previous days) and accurately predict that day’s closing price."
   ]
  },
  {
   "cell_type": "code",
   "execution_count": 483,
   "id": "c12bc030",
   "metadata": {},
   "outputs": [],
   "source": [
    "# Build a new dataset for the test data to plot the prediction result\n",
    "X_test_MA = X_test.copy()\n",
    "X_test_MA['Prediction'] = predicted"
   ]
  },
  {
   "cell_type": "code",
   "execution_count": 484,
   "id": "1d3c311e",
   "metadata": {},
   "outputs": [
    {
     "data": {
      "text/plain": [
       "[<matplotlib.lines.Line2D at 0x2bc1d2a9130>,\n",
       " <matplotlib.lines.Line2D at 0x2bc1d5ac400>]"
      ]
     },
     "execution_count": 484,
     "metadata": {},
     "output_type": "execute_result"
    },
    {
     "data": {
      "image/png": "[encoded data removed]",
      "text/plain": [
       "<Figure size 1080x360 with 1 Axes>"
      ]
     },
     "metadata": {},
     "output_type": "display_data"
    }
   ],
   "source": [
    "# Visualize the results\n",
    "plt.figure(figsize=(15,5))\n",
    "plt.plot(X_train)\n",
    "plt.plot(X_test_MA)"
   ]
  },
  {
   "cell_type": "markdown",
   "id": "2c92cfa3",
   "metadata": {},
   "source": [
    "## Model2: Linear Regression using all the features of the data"
   ]
  },
  {
   "cell_type": "markdown",
   "id": "4b0f0865",
   "metadata": {},
   "source": [
    "#### Load the Dow Jones Industrial Average data"
   ]
  },
  {
   "cell_type": "code",
   "execution_count": 485,
   "id": "fa93acf1",
   "metadata": {},
   "outputs": [
    {
     "data": {
      "text/html": [
       "<div>\n",
       "<style scoped>\n",
       "    .dataframe tbody tr th:only-of-type {\n",
       "        vertical-align: middle;\n",
       "    }\n",
       "\n",
       "    .dataframe tbody tr th {\n",
       "        vertical-align: top;\n",
       "    }\n",
       "\n",
       "    .dataframe thead th {\n",
       "        text-align: right;\n",
       "    }\n",
       "</style>\n",
       "<table border=\"1\" class=\"dataframe\">\n",
       "  <thead>\n",
       "    <tr style=\"text-align: right;\">\n",
       "      <th></th>\n",
       "      <th>Date</th>\n",
       "      <th>Open</th>\n",
       "      <th>High</th>\n",
       "      <th>Low</th>\n",
       "      <th>Close</th>\n",
       "      <th>Volume</th>\n",
       "      <th>Adj Close</th>\n",
       "    </tr>\n",
       "  </thead>\n",
       "  <tbody>\n",
       "    <tr>\n",
       "      <th>0</th>\n",
       "      <td>2016-07-01</td>\n",
       "      <td>17924.240234</td>\n",
       "      <td>18002.380859</td>\n",
       "      <td>17916.910156</td>\n",
       "      <td>17949.369141</td>\n",
       "      <td>82160000</td>\n",
       "      <td>17949.369141</td>\n",
       "    </tr>\n",
       "    <tr>\n",
       "      <th>1</th>\n",
       "      <td>2016-06-30</td>\n",
       "      <td>17712.759766</td>\n",
       "      <td>17930.609375</td>\n",
       "      <td>17711.800781</td>\n",
       "      <td>17929.990234</td>\n",
       "      <td>133030000</td>\n",
       "      <td>17929.990234</td>\n",
       "    </tr>\n",
       "  </tbody>\n",
       "</table>\n",
       "</div>"
      ],
      "text/plain": [
       "        Date          Open          High           Low         Close  \\\n",
       "0 2016-07-01  17924.240234  18002.380859  17916.910156  17949.369141   \n",
       "1 2016-06-30  17712.759766  17930.609375  17711.800781  17929.990234   \n",
       "\n",
       "      Volume     Adj Close  \n",
       "0   82160000  17949.369141  \n",
       "1  133030000  17929.990234  "
      ]
     },
     "execution_count": 485,
     "metadata": {},
     "output_type": "execute_result"
    }
   ],
   "source": [
    "DJIA_table = pd.read_csv('./upload_DJIA_table.csv')\n",
    "\n",
    "DJIA_table['Date'] = pd.to_datetime(DJIA_table['Date'], format='%Y-%m-%d')\n",
    "DJIA_table.head(2)"
   ]
  },
  {
   "cell_type": "code",
   "execution_count": 486,
   "id": "013d9a2c",
   "metadata": {},
   "outputs": [],
   "source": [
    "X = DJIA_table[['Open', 'High','Low', 'Volume']]\n",
    "y = DJIA_table['Adj Close']"
   ]
  },
  {
   "cell_type": "markdown",
   "id": "ef0704b6",
   "metadata": {},
   "source": [
    "#### Train and split the data"
   ]
  },
  {
   "cell_type": "code",
   "execution_count": 487,
   "id": "7e3bc545",
   "metadata": {},
   "outputs": [],
   "source": [
    "# Linear regression Model for stock prediction \n",
    "X_train, X_test, y_train,y_test = train_test_split(X, y, test_size=0.15 , shuffle=False,random_state = 0)"
   ]
  },
  {
   "cell_type": "code",
   "execution_count": 488,
   "id": "d6d3d1d8",
   "metadata": {},
   "outputs": [
    {
     "name": "stdout",
     "output_type": "stream",
     "text": [
      "(1690, 4)\n",
      "(299, 4)\n",
      "(1690,)\n",
      "(299,)\n"
     ]
    }
   ],
   "source": [
    "# let's check if total observation makes sense\n",
    "print(X_train.shape )\n",
    "print(X_test.shape)\n",
    "print(y_train.shape)\n",
    "print(y_test.shape)"
   ]
  },
  {
   "cell_type": "markdown",
   "id": "b2cacd92",
   "metadata": {},
   "source": [
    "#### Regression algorithm model implementation"
   ]
  },
  {
   "cell_type": "code",
   "execution_count": 489,
   "id": "482dead6",
   "metadata": {},
   "outputs": [
    {
     "name": "stdout",
     "output_type": "stream",
     "text": [
      "regression coefficient [-5.69409708e-01  8.48660103e-01  7.19535516e-01 -5.79820840e-08]\n",
      "regression intercept 22.78927549225591\n"
     ]
    }
   ],
   "source": [
    "from sklearn.linear_model import LinearRegression\n",
    "from sklearn.metrics import confusion_matrix, accuracy_score\n",
    "regression = LinearRegression()\n",
    "regression.fit(X_train, y_train)\n",
    "print(\"regression coefficient\",regression.coef_)\n",
    "print(\"regression intercept\",regression.intercept_)"
   ]
  },
  {
   "cell_type": "code",
   "execution_count": 490,
   "id": "b482ef65",
   "metadata": {},
   "outputs": [
    {
     "name": "stdout",
     "output_type": "stream",
     "text": [
      "linear regression confidence:  0.995268223661166\n"
     ]
    }
   ],
   "source": [
    "regression_confidence = regression.score(X_test, y_test)\n",
    "print(\"linear regression confidence: \", regression_confidence)"
   ]
  },
  {
   "cell_type": "markdown",
   "id": "60eb6f89",
   "metadata": {},
   "source": [
    "#### Observation:\n",
    "\n",
    "The coefficient of determination R² for our data is at 0.99 which’s 99%, which means that our model is a linear model that explains the variation of all Y values."
   ]
  },
  {
   "cell_type": "code",
   "execution_count": 491,
   "id": "f7c661f4",
   "metadata": {},
   "outputs": [
    {
     "name": "stdout",
     "output_type": "stream",
     "text": [
      "             Open          High          Low     Volume\n",
      "1690  9873.549805  10027.730469  9873.480469  284810000\n",
      "1691  9883.980469   9895.089844  9815.059570  211510000\n",
      "1692  9865.240234   9931.820312  9849.370117  158850000\n",
      "1693  9786.040039   9865.009766  9764.879883  161120000\n",
      "1694  9728.219727   9836.669922  9728.070312  209580000\n"
     ]
    }
   ],
   "source": [
    "predicted=regression.predict(X_test)\n",
    "print(X_test.head())"
   ]
  },
  {
   "cell_type": "code",
   "execution_count": 492,
   "id": "7b9f50f0",
   "metadata": {},
   "outputs": [
    {
     "data": {
      "text/plain": [
       "(299,)"
      ]
     },
     "execution_count": 492,
     "metadata": {},
     "output_type": "execute_result"
    }
   ],
   "source": [
    "predicted.shape"
   ]
  },
  {
   "cell_type": "markdown",
   "id": "1511d94f",
   "metadata": {},
   "source": [
    "#### Prediction Table of Actual Prices vs Predicted values"
   ]
  },
  {
   "cell_type": "code",
   "execution_count": 493,
   "id": "cc5ab24b",
   "metadata": {},
   "outputs": [
    {
     "data": {
      "text/html": [
       "<div>\n",
       "<style scoped>\n",
       "    .dataframe tbody tr th:only-of-type {\n",
       "        vertical-align: middle;\n",
       "    }\n",
       "\n",
       "    .dataframe tbody tr th {\n",
       "        vertical-align: top;\n",
       "    }\n",
       "\n",
       "    .dataframe thead th {\n",
       "        text-align: right;\n",
       "    }\n",
       "</style>\n",
       "<table border=\"1\" class=\"dataframe\">\n",
       "  <thead>\n",
       "    <tr style=\"text-align: right;\">\n",
       "      <th></th>\n",
       "      <th>Actual_Price</th>\n",
       "      <th>Predicted_Price</th>\n",
       "    </tr>\n",
       "  </thead>\n",
       "  <tbody>\n",
       "    <tr>\n",
       "      <th>1690</th>\n",
       "      <td>10015.860352</td>\n",
       "      <td>9998.634919</td>\n",
       "    </tr>\n",
       "    <tr>\n",
       "      <th>1691</th>\n",
       "      <td>9871.059570</td>\n",
       "      <td>9842.342967</td>\n",
       "    </tr>\n",
       "    <tr>\n",
       "      <th>1692</th>\n",
       "      <td>9885.799805</td>\n",
       "      <td>9911.926515</td>\n",
       "    </tr>\n",
       "    <tr>\n",
       "      <th>1693</th>\n",
       "      <td>9864.940430</td>\n",
       "      <td>9839.399086</td>\n",
       "    </tr>\n",
       "    <tr>\n",
       "      <th>1694</th>\n",
       "      <td>9786.870117</td>\n",
       "      <td>9818.976033</td>\n",
       "    </tr>\n",
       "    <tr>\n",
       "      <th>1695</th>\n",
       "      <td>9725.580078</td>\n",
       "      <td>9703.339580</td>\n",
       "    </tr>\n",
       "    <tr>\n",
       "      <th>1696</th>\n",
       "      <td>9731.250000</td>\n",
       "      <td>9747.316365</td>\n",
       "    </tr>\n",
       "    <tr>\n",
       "      <th>1697</th>\n",
       "      <td>9599.750000</td>\n",
       "      <td>9600.118760</td>\n",
       "    </tr>\n",
       "    <tr>\n",
       "      <th>1698</th>\n",
       "      <td>9487.669922</td>\n",
       "      <td>9464.895056</td>\n",
       "    </tr>\n",
       "    <tr>\n",
       "      <th>1699</th>\n",
       "      <td>9509.280273</td>\n",
       "      <td>9555.190048</td>\n",
       "    </tr>\n",
       "  </tbody>\n",
       "</table>\n",
       "</div>"
      ],
      "text/plain": [
       "      Actual_Price  Predicted_Price\n",
       "1690  10015.860352      9998.634919\n",
       "1691   9871.059570      9842.342967\n",
       "1692   9885.799805      9911.926515\n",
       "1693   9864.940430      9839.399086\n",
       "1694   9786.870117      9818.976033\n",
       "1695   9725.580078      9703.339580\n",
       "1696   9731.250000      9747.316365\n",
       "1697   9599.750000      9600.118760\n",
       "1698   9487.669922      9464.895056\n",
       "1699   9509.280273      9555.190048"
      ]
     },
     "execution_count": 493,
     "metadata": {},
     "output_type": "execute_result"
    }
   ],
   "source": [
    "DJIA_predicted =pd.DataFrame({'Actual_Price':y_test, 'Predicted_Price':predicted})\n",
    "DJIA_predicted.head(10)"
   ]
  },
  {
   "cell_type": "markdown",
   "id": "dccaad15",
   "metadata": {},
   "source": [
    "The below table displays a summary statistics values of actual values vs predicted values of the dataset"
   ]
  },
  {
   "cell_type": "code",
   "execution_count": 494,
   "id": "70a2088d",
   "metadata": {},
   "outputs": [
    {
     "data": {
      "text/html": [
       "<div>\n",
       "<style scoped>\n",
       "    .dataframe tbody tr th:only-of-type {\n",
       "        vertical-align: middle;\n",
       "    }\n",
       "\n",
       "    .dataframe tbody tr th {\n",
       "        vertical-align: top;\n",
       "    }\n",
       "\n",
       "    .dataframe thead th {\n",
       "        text-align: right;\n",
       "    }\n",
       "</style>\n",
       "<table border=\"1\" class=\"dataframe\">\n",
       "  <thead>\n",
       "    <tr style=\"text-align: right;\">\n",
       "      <th></th>\n",
       "      <th>Actual_Price</th>\n",
       "      <th>Predicted_Price</th>\n",
       "    </tr>\n",
       "  </thead>\n",
       "  <tbody>\n",
       "    <tr>\n",
       "      <th>count</th>\n",
       "      <td>299.000000</td>\n",
       "      <td>299.000000</td>\n",
       "    </tr>\n",
       "    <tr>\n",
       "      <th>mean</th>\n",
       "      <td>8922.361010</td>\n",
       "      <td>8927.873222</td>\n",
       "    </tr>\n",
       "    <tr>\n",
       "      <th>std</th>\n",
       "      <td>1151.086998</td>\n",
       "      <td>1152.500506</td>\n",
       "    </tr>\n",
       "    <tr>\n",
       "      <th>min</th>\n",
       "      <td>6547.049805</td>\n",
       "      <td>6612.097920</td>\n",
       "    </tr>\n",
       "    <tr>\n",
       "      <th>25%</th>\n",
       "      <td>8184.449951</td>\n",
       "      <td>8210.270081</td>\n",
       "    </tr>\n",
       "    <tr>\n",
       "      <th>50%</th>\n",
       "      <td>8668.389648</td>\n",
       "      <td>8648.905775</td>\n",
       "    </tr>\n",
       "    <tr>\n",
       "      <th>75%</th>\n",
       "      <td>9491.975097</td>\n",
       "      <td>9493.476375</td>\n",
       "    </tr>\n",
       "    <tr>\n",
       "      <th>max</th>\n",
       "      <td>11782.349609</td>\n",
       "      <td>11805.281401</td>\n",
       "    </tr>\n",
       "  </tbody>\n",
       "</table>\n",
       "</div>"
      ],
      "text/plain": [
       "       Actual_Price  Predicted_Price\n",
       "count    299.000000       299.000000\n",
       "mean    8922.361010      8927.873222\n",
       "std     1151.086998      1152.500506\n",
       "min     6547.049805      6612.097920\n",
       "25%     8184.449951      8210.270081\n",
       "50%     8668.389648      8648.905775\n",
       "75%     9491.975097      9493.476375\n",
       "max    11782.349609     11805.281401"
      ]
     },
     "execution_count": 494,
     "metadata": {},
     "output_type": "execute_result"
    }
   ],
   "source": [
    "DJIA_predicted.describe()"
   ]
  },
  {
   "cell_type": "markdown",
   "id": "40496a57",
   "metadata": {},
   "source": [
    "### Model Evaluation\n",
    "\n",
    "MAE and RMSE are the most common statistical metrics used to measure continuous variables or in our case the accuracy of our regression models.\n",
    "\n",
    "  - Mean Absolute Error (MAE):\n",
    "   \n",
    "      - MAE measures the average magnitude of the errors in a set of predictions, without considering their direction\n",
    "  \n",
    "  - Root mean squared error (RMSE):\n",
    "       - RMSE is a quadratic scoring rule that also measures the average magnitude of the error.\n",
    "  \n",
    "  - Mean squared error (MSE):\n",
    "  \n",
    "      - MSE measures the average of the squares of the errors — that is, the average squared difference between the estimated values and the actual value. MSE is a risk function, corresponding to the expected value of the squared error loss.\n",
    "      \n",
    "      \n",
    "      All mentioned metrics above can range from 0 to ∞ and are indifferent to the direction of errors. They are negatively-oriented scores, which means the lower values they present the better. Remember that RMSE will always be larger in value than MSE, Also it can penalize more error-related data so RMSE can be a better measure than MSE."
   ]
  },
  {
   "cell_type": "markdown",
   "id": "d0bc9fd9",
   "metadata": {},
   "source": [
    " - Data scaling is a recommended pre-processing step when working with many machine learning algorithms.\n",
    " - Data scaling can be achieved by normalizing or standardizing real-valued input and output variables.\n",
    " - Apply standardization and normalization to improve the performance of predictive modeling algorithms."
   ]
  },
  {
   "cell_type": "code",
   "execution_count": 541,
   "id": "d9e0ed45",
   "metadata": {},
   "outputs": [],
   "source": [
    "#Call the StandardScaler`s fit method on `X_train` to fit the scaler\n",
    "#then use it's `transform()` method to apply the scaling to both the train and test split\n",
    "#data (`X_train` and `X_test`), naming the results `X_train_scaled` and `X_test_scaled`, respectively\n",
    "\n",
    "from sklearn.preprocessing import StandardScaler, MinMaxScaler\n",
    "\n",
    "scaler = StandardScaler()\n",
    "scaler.fit(X_train)\n",
    "X_train_scaled = scaler.transform(X_train)\n",
    "X_test_scaled = scaler.transform(X_test)"
   ]
  },
  {
   "cell_type": "code",
   "execution_count": 504,
   "id": "f43d2525",
   "metadata": {},
   "outputs": [],
   "source": [
    "lm = LinearRegression().fit(X_train_scaled, y_train)"
   ]
  },
  {
   "cell_type": "code",
   "execution_count": 505,
   "id": "b17690e8",
   "metadata": {},
   "outputs": [],
   "source": [
    "#Code task 11#\n",
    "#Call the `predict()` method of the model (`lm`) on both the (scaled) train and test data\n",
    "#Assign the predictions to `y_tr_pred` and `y_te_pred`, respectively\n",
    "y_train_pred = lm.predict(X_train_scaled)\n",
    "y_test_pred = lm.predict(X_test_scaled)"
   ]
  },
  {
   "cell_type": "code",
   "execution_count": 540,
   "id": "14e49791",
   "metadata": {},
   "outputs": [
    {
     "name": "stdout",
     "output_type": "stream",
     "text": [
      "Mean Absolute Error (MAE): 34.20557736911722 55.738955408921335\n",
      "Mean Squared Error (MSE) : 2312.9625417409297 6248.641095587581\n",
      "Root Mean Squared Error (RMSE): 0.9996742774610294 0.9952682236612378\n"
     ]
    }
   ],
   "source": [
    "import sklearn.metrics as metrics\n",
    "print('Mean Absolute Error (MAE):', metrics.mean_absolute_error(y_train, y_train_pred), mean_absolute_error(y_test, y_test_pred))\n",
    "print('Mean Squared Error (MSE) :', metrics.mean_squared_error(y_train, y_train_pred), mean_squared_error(y_test, y_test_pred))\n",
    "print('Root Mean Squared Error (RMSE):', r2_score(y_train, y_train_pred), r2_score(y_test, y_test_pred))"
   ]
  },
  {
   "cell_type": "markdown",
   "id": "dfb42a58",
   "metadata": {},
   "source": [
    "#### Observation:\n",
    "\n",
    "Root Mean Squared Error of our metric results are showing values less than 1, from an interpretation standpoint, I think RMSE is a better metric measurement for linear problems than MAE and MSE, as RMSE describe average error alone and has other implications that are more difficult to tease out and understand.\n",
    "\n"
   ]
  },
  {
   "cell_type": "code",
   "execution_count": 542,
   "id": "170bca06",
   "metadata": {},
   "outputs": [
    {
     "name": "stdout",
     "output_type": "stream",
     "text": [
      "The accuracy of the model is  99.93825839150713\n"
     ]
    }
   ],
   "source": [
    "x2 = DJIA_predicted.Actual_Price.mean()\n",
    "y2 = DJIA_predicted.Predicted_Price.mean()\n",
    "Accuracy1 = x2/y2*100\n",
    "\n",
    "print(\"The accuracy of the model is \" , Accuracy1)"
   ]
  },
  {
   "cell_type": "code",
   "execution_count": 543,
   "id": "5cbb5eef",
   "metadata": {},
   "outputs": [
    {
     "data": {
      "image/png": "[encoded data removed]",
      "text/plain": [
       "<Figure size 864x432 with 1 Axes>"
      ]
     },
     "metadata": {},
     "output_type": "display_data"
    }
   ],
   "source": [
    "plt.scatter(DJIA_predicted.Actual_Price, DJIA_predicted.Predicted_Price,  color='Darkblue')\n",
    "plt.xlabel(\"Actual Price\")\n",
    "plt.ylabel(\"Predicted Price\")\n",
    "plt.show()"
   ]
  },
  {
   "cell_type": "code",
   "execution_count": 498,
   "id": "ab3cc965",
   "metadata": {},
   "outputs": [
    {
     "data": {
      "image/png": "[encoded data removed]",
      "text/plain": [
       "<Figure size 864x432 with 1 Axes>"
      ]
     },
     "metadata": {},
     "output_type": "display_data"
    }
   ],
   "source": [
    "#Visualization of the training set results\n",
    "plt.scatter(DJIA_predicted.Actual_Price, DJIA_predicted.Predicted_Price, color = 'red')\n",
    "plt.plot(DJIA_predicted.Actual_Price, DJIA_predicted.Predicted_Price, color = 'green')\n",
    "plt.title('Predicted Value Vs Real Value')\n",
    "plt.xlabel('Predicted Value')\n",
    "plt.ylabel('Real Value')\n",
    "plt.show()"
   ]
  },
  {
   "cell_type": "code",
   "execution_count": 499,
   "id": "3beff926",
   "metadata": {},
   "outputs": [
    {
     "name": "stderr",
     "output_type": "stream",
     "text": [
      "No artists with labels found to put in legend.  Note that artists whose label start with an underscore are ignored when legend() is called with no argument.\n"
     ]
    },
    {
     "data": {
      "image/png": "[encoded data removed]",
      "text/plain": [
       "<Figure size 864x432 with 1 Axes>"
      ]
     },
     "metadata": {},
     "output_type": "display_data"
    }
   ],
   "source": [
    "plt.plot(DJIA_predicted.Actual_Price, color='red')\n",
    "plt.plot(DJIA_predicted.Predicted_Price, color='lightblue')\n",
    "plt.title(\"prediction chart\")\n",
    "plt.legend();"
   ]
  },
  {
   "cell_type": "markdown",
   "id": "4d89da7f",
   "metadata": {},
   "source": [
    "## Model 3 - Using `Date` and `Adjusted Closing Price`"
   ]
  },
  {
   "cell_type": "code",
   "execution_count": 256,
   "id": "407abecf",
   "metadata": {},
   "outputs": [
    {
     "data": {
      "text/html": [
       "<div>\n",
       "<style scoped>\n",
       "    .dataframe tbody tr th:only-of-type {\n",
       "        vertical-align: middle;\n",
       "    }\n",
       "\n",
       "    .dataframe tbody tr th {\n",
       "        vertical-align: top;\n",
       "    }\n",
       "\n",
       "    .dataframe thead th {\n",
       "        text-align: right;\n",
       "    }\n",
       "</style>\n",
       "<table border=\"1\" class=\"dataframe\">\n",
       "  <thead>\n",
       "    <tr style=\"text-align: right;\">\n",
       "      <th></th>\n",
       "      <th>Date</th>\n",
       "      <th>Open</th>\n",
       "      <th>High</th>\n",
       "      <th>Low</th>\n",
       "      <th>Close</th>\n",
       "      <th>Volume</th>\n",
       "      <th>Adj Close</th>\n",
       "      <th>Daily_Returns</th>\n",
       "      <th>Label</th>\n",
       "      <th>Top1</th>\n",
       "      <th>...</th>\n",
       "      <th>Top21</th>\n",
       "      <th>Top22</th>\n",
       "      <th>Top23</th>\n",
       "      <th>Top24</th>\n",
       "      <th>Top25</th>\n",
       "      <th>Top_news</th>\n",
       "      <th>combined_news</th>\n",
       "      <th>combined_news_split</th>\n",
       "      <th>combined_news_split_wo_stopwords</th>\n",
       "      <th>Top_News_lemmatized</th>\n",
       "    </tr>\n",
       "  </thead>\n",
       "  <tbody>\n",
       "    <tr>\n",
       "      <th>0</th>\n",
       "      <td>2008-08-08</td>\n",
       "      <td>11432.089844</td>\n",
       "      <td>11759.959961</td>\n",
       "      <td>11388.040039</td>\n",
       "      <td>11734.320312</td>\n",
       "      <td>212830000</td>\n",
       "      <td>11734.320312</td>\n",
       "      <td>-0.004076</td>\n",
       "      <td>0</td>\n",
       "      <td>Georgia 'downs two Russian warplanes' as count...</td>\n",
       "      <td>...</td>\n",
       "      <td>Why the Pentagon Thinks Attacking Iran is a Ba...</td>\n",
       "      <td>Caucasus in crisis: Georgia invades South Osse...</td>\n",
       "      <td>Indian shoe manufactory  - And again in a seri...</td>\n",
       "      <td>Visitors Suffering from Mental Illnesses Banne...</td>\n",
       "      <td>No Help for Mexico's Kidnapping Surge</td>\n",
       "      <td>bGeorgia downs two Russian warplanes as countr...</td>\n",
       "      <td>Georgia 'downs two Russian warplanes' as count...</td>\n",
       "      <td>['georgia', 'downs', 'two', 'russian', 'warpla...</td>\n",
       "      <td>['georgia', 'downs', 'two', 'russian', 'warpla...</td>\n",
       "      <td>georgia down two russian warplane country move...</td>\n",
       "    </tr>\n",
       "  </tbody>\n",
       "</table>\n",
       "<p>1 rows × 39 columns</p>\n",
       "</div>"
      ],
      "text/plain": [
       "         Date          Open          High           Low         Close  \\\n",
       "0  2008-08-08  11432.089844  11759.959961  11388.040039  11734.320312   \n",
       "\n",
       "      Volume     Adj Close  Daily_Returns  Label  \\\n",
       "0  212830000  11734.320312      -0.004076      0   \n",
       "\n",
       "                                                Top1  ...  \\\n",
       "0  Georgia 'downs two Russian warplanes' as count...  ...   \n",
       "\n",
       "                                               Top21  \\\n",
       "0  Why the Pentagon Thinks Attacking Iran is a Ba...   \n",
       "\n",
       "                                               Top22  \\\n",
       "0  Caucasus in crisis: Georgia invades South Osse...   \n",
       "\n",
       "                                               Top23  \\\n",
       "0  Indian shoe manufactory  - And again in a seri...   \n",
       "\n",
       "                                               Top24  \\\n",
       "0  Visitors Suffering from Mental Illnesses Banne...   \n",
       "\n",
       "                                   Top25  \\\n",
       "0  No Help for Mexico's Kidnapping Surge   \n",
       "\n",
       "                                            Top_news  \\\n",
       "0  bGeorgia downs two Russian warplanes as countr...   \n",
       "\n",
       "                                       combined_news  \\\n",
       "0  Georgia 'downs two Russian warplanes' as count...   \n",
       "\n",
       "                                 combined_news_split  \\\n",
       "0  ['georgia', 'downs', 'two', 'russian', 'warpla...   \n",
       "\n",
       "                    combined_news_split_wo_stopwords  \\\n",
       "0  ['georgia', 'downs', 'two', 'russian', 'warpla...   \n",
       "\n",
       "                                 Top_News_lemmatized  \n",
       "0  georgia down two russian warplane country move...  \n",
       "\n",
       "[1 rows x 39 columns]"
      ]
     },
     "execution_count": 256,
     "metadata": {},
     "output_type": "execute_result"
    }
   ],
   "source": [
    "DJIA_comb = pd.read_csv(\".\\DJIA_comb.csv\")\n",
    "DJIA_comb.head(1)"
   ]
  },
  {
   "cell_type": "code",
   "execution_count": 257,
   "id": "37c5a21c",
   "metadata": {},
   "outputs": [
    {
     "data": {
      "text/html": [
       "<div>\n",
       "<style scoped>\n",
       "    .dataframe tbody tr th:only-of-type {\n",
       "        vertical-align: middle;\n",
       "    }\n",
       "\n",
       "    .dataframe tbody tr th {\n",
       "        vertical-align: top;\n",
       "    }\n",
       "\n",
       "    .dataframe thead th {\n",
       "        text-align: right;\n",
       "    }\n",
       "</style>\n",
       "<table border=\"1\" class=\"dataframe\">\n",
       "  <thead>\n",
       "    <tr style=\"text-align: right;\">\n",
       "      <th></th>\n",
       "      <th>Date</th>\n",
       "      <th>Adj Close</th>\n",
       "    </tr>\n",
       "  </thead>\n",
       "  <tbody>\n",
       "    <tr>\n",
       "      <th>0</th>\n",
       "      <td>2008-08-08</td>\n",
       "      <td>11734.320312</td>\n",
       "    </tr>\n",
       "    <tr>\n",
       "      <th>1</th>\n",
       "      <td>2008-08-11</td>\n",
       "      <td>11782.349609</td>\n",
       "    </tr>\n",
       "    <tr>\n",
       "      <th>2</th>\n",
       "      <td>2008-08-12</td>\n",
       "      <td>11642.469727</td>\n",
       "    </tr>\n",
       "    <tr>\n",
       "      <th>3</th>\n",
       "      <td>2008-08-13</td>\n",
       "      <td>11532.959961</td>\n",
       "    </tr>\n",
       "    <tr>\n",
       "      <th>4</th>\n",
       "      <td>2008-08-14</td>\n",
       "      <td>11615.929688</td>\n",
       "    </tr>\n",
       "  </tbody>\n",
       "</table>\n",
       "</div>"
      ],
      "text/plain": [
       "         Date     Adj Close\n",
       "0  2008-08-08  11734.320312\n",
       "1  2008-08-11  11782.349609\n",
       "2  2008-08-12  11642.469727\n",
       "3  2008-08-13  11532.959961\n",
       "4  2008-08-14  11615.929688"
      ]
     },
     "execution_count": 257,
     "metadata": {},
     "output_type": "execute_result"
    }
   ],
   "source": [
    "price_new = DJIA_comb.reset_index()[['Date', 'Adj Close']]\n",
    "price_new.head()"
   ]
  },
  {
   "cell_type": "code",
   "execution_count": 258,
   "id": "cc9e3758",
   "metadata": {},
   "outputs": [
    {
     "data": {
      "text/plain": [
       "(1985, 2)"
      ]
     },
     "execution_count": 258,
     "metadata": {},
     "output_type": "execute_result"
    }
   ],
   "source": [
    "price_new.shape"
   ]
  },
  {
   "cell_type": "code",
   "execution_count": 259,
   "id": "9362aed6",
   "metadata": {},
   "outputs": [],
   "source": [
    "# Feature engineering of extra columns\n",
    "# Add new features made from Date column\n",
    "price_new['Date'] = pd.to_datetime(price_new['Date'], errors='coerce')\n",
    "\n",
    "price_new['Year'] = price_new['Date'].dt.year\n",
    "price_new['Month'] = price_new['Date'].dt.month\n",
    "price_new['Week'] = price_new['Date'].dt.isocalendar().week\n",
    "price_new['Day'] = price_new['Date'].dt.day\n",
    "price_new['Dayofweek'] = price_new['Date'].dt.dayofweek\n",
    "price_new['Dayofyear'] = price_new['Date'].dt.dayofyear\n",
    "price_new['Is_month_start'] = price_new['Date'].dt.is_month_start.astype('int')\n",
    "price_new['Is_month_end'] = price_new['Date'].dt.is_month_end.astype('int')\n",
    "price_new['Is_quarter_start'] = price_new['Date'].dt.is_quarter_start.astype('int')\n",
    "price_new['Is_quarter_end'] = price_new['Date'].dt.is_quarter_end.astype('int')\n",
    "price_new['Is_year_start'] = price_new['Date'].dt.is_year_start.astype('int')\n",
    "price_new['Is_year_end'] = price_new['Date'].dt.is_year_end.astype('int')"
   ]
  },
  {
   "cell_type": "code",
   "execution_count": 260,
   "id": "5b7dc3b4",
   "metadata": {},
   "outputs": [],
   "source": [
    "price_new['mon_fri'] = 0\n",
    "for i in range(0,len(price_new)):\n",
    "    if (price_new['Dayofweek'][i] == 0 or new_data1['Dayofweek'][i] == 4):\n",
    "        price_new.loc[i, 'mon_fri'] = 1"
   ]
  },
  {
   "cell_type": "code",
   "execution_count": 261,
   "id": "e67db61a",
   "metadata": {},
   "outputs": [],
   "source": [
    "# Create new Train and Test datasets\n",
    "train = price_new[:1484]\n",
    "test = price_new[1484:]\n",
    "\n",
    "X_train = train.drop('Adj Close', axis=1)\n",
    "X_test = test.drop('Adj Close', axis=1)\n",
    "y_train = train['Adj Close']\n",
    "y_test = test['Adj Close']"
   ]
  },
  {
   "cell_type": "code",
   "execution_count": 262,
   "id": "1751cf9d",
   "metadata": {},
   "outputs": [],
   "source": [
    "X_train['Date']=X_train['Date'].map(dt.datetime.toordinal)\n",
    "X_test['Date']=X_test['Date'].map(dt.datetime.toordinal)"
   ]
  },
  {
   "cell_type": "code",
   "execution_count": 263,
   "id": "d9959a1e",
   "metadata": {},
   "outputs": [
    {
     "data": {
      "text/plain": [
       "array([16196.24197551, 16197.26831573, 16198.29465596, 16204.75841693,\n",
       "       16220.40566006, 16215.99457953, 16217.02091977, 16218.04725999,\n",
       "       16224.51102097, 16240.15826408])"
      ]
     },
     "execution_count": 263,
     "metadata": {},
     "output_type": "execute_result"
    }
   ],
   "source": [
    "#implement liner regression\n",
    "model = LinearRegression()\n",
    "model.fit(X_train,y_train)\n",
    "\n",
    "#make predictions and find the rmse\n",
    "prediction = model.predict(X_test)\n",
    "prediction[:10]"
   ]
  },
  {
   "cell_type": "code",
   "execution_count": 264,
   "id": "43c3ad66",
   "metadata": {},
   "outputs": [
    {
     "data": {
      "text/plain": [
       "1027.6328772962165"
      ]
     },
     "execution_count": 264,
     "metadata": {},
     "output_type": "execute_result"
    }
   ],
   "source": [
    "# Make predictions and find the rmse\n",
    "rmse = np.sqrt(np.mean(np.power((np.array(y_test)-np.array(preds)),2)))\n",
    "rmse"
   ]
  },
  {
   "cell_type": "code",
   "execution_count": 265,
   "id": "eca7ebd9",
   "metadata": {},
   "outputs": [
    {
     "name": "stdout",
     "output_type": "stream",
     "text": [
      "lr R^2 score:  -1.8609739161991468\n"
     ]
    }
   ],
   "source": [
    "## Optional: It is not a good measure to use to assess performance\n",
    "lr_score = model.score(X_test, y_test)\n",
    "print(\"lr R^2 score: \", lr_score)"
   ]
  },
  {
   "cell_type": "code",
   "execution_count": 267,
   "id": "62f03c78",
   "metadata": {},
   "outputs": [],
   "source": [
    "## Assign a new column to plot the predictions\n",
    "test_copy = test.copy()\n",
    "test_copy['Predictions'] = prediction"
   ]
  },
  {
   "cell_type": "code",
   "execution_count": 268,
   "id": "2b01c2d3",
   "metadata": {},
   "outputs": [
    {
     "data": {
      "text/plain": [
       "[<matplotlib.lines.Line2D at 0x2bc220246d0>,\n",
       " <matplotlib.lines.Line2D at 0x2bc22024730>]"
      ]
     },
     "execution_count": 268,
     "metadata": {},
     "output_type": "execute_result"
    },
    {
     "data": {
      "image/png": "[encoded data removed]",
      "text/plain": [
       "<Figure size 864x432 with 1 Axes>"
      ]
     },
     "metadata": {},
     "output_type": "display_data"
    }
   ],
   "source": [
    "#plot\n",
    "plt.plot(train['Adj Close'])\n",
    "plt.plot(test_copy[['Adj Close','Predictions']])"
   ]
  },
  {
   "cell_type": "markdown",
   "id": "b07c26bc",
   "metadata": {},
   "source": [
    "#### Conclusion:\n",
    "    The stock market has been always the hottest topic when it comes to time series forecasting or trying to feel where the market is going overall.\n",
    "    \n",
    "    uncertainty of moving variables that could impact the stock market volatility from associated risk to political instability and Macroeconomic factors, well the list could go on.\n",
    "    \n",
    "    relying on regression models and predicting certain values based on past performance is not good enough.\n",
    "    \n",
    "Reference1: https://medium.com/codex/stock-predication-using-regression-algorithm-in-python-fb8b426453b9\n",
    "\n",
    "Reference1: https://www.alpharithms.com/predicting-stock-prices-with-linear-regression-214618/"
   ]
  }
 ],
 "metadata": {
  "kernelspec": {
   "display_name": "Python 3 (ipykernel)",
   "language": "python",
   "name": "python3"
  },
  "language_info": {
   "codemirror_mode": {
    "name": "ipython",
    "version": 3
   },
   "file_extension": ".py",
   "mimetype": "text/x-python",
   "name": "python",
   "nbconvert_exporter": "python",
   "pygments_lexer": "ipython3",
   "version": "3.8.8"
  }
 },
 "nbformat": 4,
 "nbformat_minor": 5
}
